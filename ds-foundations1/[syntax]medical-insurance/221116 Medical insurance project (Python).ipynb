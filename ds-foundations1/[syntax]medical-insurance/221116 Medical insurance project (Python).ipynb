{
 "cells": [
  {
   "cell_type": "code",
   "execution_count": 10,
   "metadata": {},
   "outputs": [
    {
     "name": "stdout",
     "output_type": "stream",
     "text": [
      "This person's insurance cost is 5469.0 dollars.\n",
      "The change in cost of insurance after increasing the age by 4 years is 1000.0 dollars.\n"
     ]
    }
   ],
   "source": [
    "# create the initial variables below\n",
    "age = 28\n",
    "sex = 0\n",
    "bmi = 26.2\n",
    "num_of_children = 3\n",
    "smoker = 0\n",
    "\n",
    "# add insurance estimate formula below\n",
    "insurance_cost = 250 * age - 128 * sex + 370 * bmi + 425 * num_of_children + 24000 * smoker - 12500\n",
    "\n",
    "print(\"This person's insurance cost is \" + str(insurance_cost) + \" dollars.\")\n",
    "\n",
    "# age factor\n",
    "age += 4\n",
    "new_insurance_cost = 250 * age - 128 * sex + 370 * bmi + 425 * num_of_children + 24000 * smoker - 12500\n",
    "change_insurance_cost = new_insurance_cost - insurance_cost\n",
    "\n",
    "print(\"The change in cost of insurance after increasing the age by 4 years is \"+ str(change_insurance_cost) +\" dollars.\")\n",
    "\n",
    "\n"
   ]
  }
 ],
 "metadata": {
  "kernelspec": {
   "display_name": "Python 3.9.12 ('base')",
   "language": "python",
   "name": "python3"
  },
  "language_info": {
   "codemirror_mode": {
    "name": "ipython",
    "version": 3
   },
   "file_extension": ".py",
   "mimetype": "text/x-python",
   "name": "python",
   "nbconvert_exporter": "python",
   "pygments_lexer": "ipython3",
   "version": "3.9.12"
  },
  "orig_nbformat": 4,
  "vscode": {
   "interpreter": {
    "hash": "2e0be0f9431735c17531102800b85e645e404fc947049537ee8d8d3df613b1c0"
   }
  }
 },
 "nbformat": 4,
 "nbformat_minor": 2
}
