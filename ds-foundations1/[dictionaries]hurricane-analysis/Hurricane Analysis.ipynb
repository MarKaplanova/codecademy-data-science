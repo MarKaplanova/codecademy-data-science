{
 "cells": [
  {
   "cell_type": "markdown",
   "id": "58875e7a",
   "metadata": {},
   "source": [
    "# Hurricane Analysis"
   ]
  },
  {
   "cell_type": "markdown",
   "id": "9a2d9627",
   "metadata": {},
   "source": [
    "#### Overview"
   ]
  },
  {
   "cell_type": "markdown",
   "id": "633e5dde",
   "metadata": {},
   "source": [
    "This project is slightly different than others you have encountered thus far. Instead of a step-by-step tutorial, this project contains a series of open-ended requirements which describe the project you'll be building. There are many possible ways to correctly fulfill all of these requirements, and you should expect to use the internet, Codecademy, and other resources when you encounter a problem that you cannot easily solve."
   ]
  },
  {
   "cell_type": "markdown",
   "id": "52f01f07",
   "metadata": {},
   "source": [
    "#### Project Goals"
   ]
  },
  {
   "cell_type": "markdown",
   "id": "d9d06c43",
   "metadata": {},
   "source": [
    "You will work to write several functions that organize and manipulate data about Category 5 Hurricanes, the strongest hurricanes as rated by their wind speed. Each one of these functions will use a number of parameters, conditionals, lists, dictionaries, string manipulation, and return statements."
   ]
  },
  {
   "cell_type": "markdown",
   "id": "7fbb9fb5",
   "metadata": {},
   "source": [
    "#### Prerequisites"
   ]
  },
  {
   "cell_type": "markdown",
   "id": "4732a1e8",
   "metadata": {},
   "source": [
    "In order to complete this project, you should have completed the Loops and Dictionaries sections of the [Learn Python 3 Course](https://www.codecademy.com/learn/learn-python-3). This content is also covered in the [Data Scientist Career Path](https://www.codecademy.com/learn/paths/data-science/)."
   ]
  },
  {
   "cell_type": "markdown",
   "id": "1e924903",
   "metadata": {},
   "source": [
    "## Project Requirements"
   ]
  },
  {
   "cell_type": "markdown",
   "id": "35d6f74d",
   "metadata": {},
   "source": [
    "1. Hurricanes, also known as cyclones or typhoons, are one of the most powerful forces of nature on Earth. Due to climate change caused by human activity, the number and intensity of hurricanes has risen, calling for better preparation by the many communities that are devastated by them. As a concerned environmentalist, you want to look at data about the most powerful hurricanes that have occured. \n",
    "\n",
    "   Begin by looking at the `damages` list. The list contains strings representing the total cost in USD(`$`) caused by `34` category 5 hurricanes (wind speeds $\\ge$ 157 mph (252 km/h)) in the Atlantic region. For some of the hurricanes, damage data was not recorded (`\"Damages not recorded\"`), while the rest are written in the format `\"Prefix-B/M\"`, where `B` stands for billions (`1000000000`) and `M` stands for millions (`1000000`).\n",
    "   \n",
    "   Write a function that returns a new list of updated damages where the recorded data is converted to float values and the missing data is retained as `\"Damages not recorded\"`.\n",
    "   \n",
    "   Test your function with the data stored in `damages`."
   ]
  },
  {
   "cell_type": "code",
   "execution_count": 79,
   "id": "d8d3c50b",
   "metadata": {},
   "outputs": [
    {
     "name": "stdout",
     "output_type": "stream",
     "text": [
      "['Damages not recorded', 100000000.0, 'Damages not recorded', 40000000.0, 27900000.0, 5000000.0, 'Damages not recorded', 306000000.0, 2000000.0, 65800000.0, 326000000.0, 60300000.0, 208000000.0, 1420000000.0, 25400000.0, 'Damages not recorded', 1540000000.0, 1240000000.0, 7100000000.0, 10000000000.0, 26500000000.0, 6200000000.0, 5370000000.0, 23300000000.0, 1010000000.0, 125000000000.0, 12000000000.0, 29400000000.0, 1760000000.0, 720000000.0, 15100000000.0, 64800000000.0, 91600000000.0, 25100000000.0]\n"
     ]
    }
   ],
   "source": [
    "# damages (USD($)) of hurricanes\n",
    "damages = ['Damages not recorded', '100M', 'Damages not recorded', '40M',\n",
    "          '27.9M', '5M', 'Damages not recorded', '306M', '2M', '65.8M',\n",
    "          '326M', '60.3M', '208M', '1.42B', '25.4M', 'Damages not recorded',\n",
    "          '1.54B', '1.24B', '7.1B', '10B', '26.5B', '6.2B', '5.37B', '23.3B',\n",
    "          '1.01B', '125B', '12B', '29.4B', '1.76B', '720M', '15.1B', '64.8B',\n",
    "          '91.6B', '25.1B']\n",
    "\n",
    "# 1\n",
    "# Update Recorded Damages\n",
    "conversion = {\"M\": 1000000,\n",
    "             \"B\": 1000000000}\n",
    "\n",
    "# test function by updating damages\n",
    "def damage_conversion(damage_list): \n",
    "    num = \"1234567890\"\n",
    "    converted = []\n",
    "    for damage in damage_list: \n",
    "        if damage[-1] in conversion.keys(): \n",
    "            multiplier = conversion.get(damage[-1])\n",
    "            damage_num = float(damage[:-1])\n",
    "            converted.append(damage_num * multiplier)\n",
    "                #damage * conversion.get(unit))\n",
    "        else: \n",
    "            converted.append(damage)\n",
    "    return converted\n",
    "\n",
    "dam_conv = damage_conversion(damages)\n",
    "print(dam_conv)"
   ]
  },
  {
   "cell_type": "markdown",
   "id": "36ac47b6",
   "metadata": {},
   "source": [
    "2. Additional data collected on the `34` strongest Atlantic hurricanes are provided in a series of lists. The data includes:\n",
    "   - `names`: names of the hurricanes\n",
    "   - `months`: months in which the hurricanes occurred\n",
    "   - `years`: years in which the hurricanes occurred\n",
    "   - `max_sustained_winds`: maximum sustained winds (miles per hour) of the hurricanes\n",
    "   - `areas_affected`: list of different areas affected by each of the hurricanes\n",
    "   - `deaths`: total number of deaths caused by each of the hurricanes\n",
    "   \n",
    "   The data is organized such that the data at each index, from `0` to `33`, corresponds to the same hurricane.\n",
    "   \n",
    "   For example, `names[0]` yields the \"Cuba I\" hurricane, which occurred in `months[0]` (October) `years[0]` (1924).\n",
    "   \n",
    "   Write a function that constructs a dictionary made out of the lists, where the keys of the dictionary are the names of the hurricanes, and the values are dictionaries themselves containing a key for each piece of data (`Name`, `Month`, `Year`, `Max Sustained Wind`, `Areas Affected`, `Damage`, `Death`) about the hurricane.\n",
    "   \n",
    "   Thus the key `\"Cuba I\"` would have the value: `{'Name': 'Cuba I', 'Month': 'October', 'Year': 1924, 'Max Sustained Wind': 165, 'Areas Affected': ['Central America', 'Mexico', 'Cuba', 'Florida', 'The Bahamas'], 'Damage': 'Damages not recorded', 'Deaths': 90}`.\n",
    "   \n",
    "   Test your function on the lists of data provided."
   ]
  },
  {
   "cell_type": "code",
   "execution_count": 86,
   "id": "641aa113",
   "metadata": {},
   "outputs": [
    {
     "name": "stdout",
     "output_type": "stream",
     "text": [
      "{'Cuba I': {'name': 'Cuba I', 'month': 'October', 'year': 1924, 'max sustained wind': 165, 'areas affected': ['Central America', 'Mexico', 'Cuba', 'Florida', 'The Bahamas'], 'damage': 'Damages not recorded', 'deaths': 90}, 'San Felipe II Okeechobee': {'name': 'San Felipe II Okeechobee', 'month': 'September', 'year': 1928, 'max sustained wind': 160, 'areas affected': ['Lesser Antilles', 'The Bahamas', 'United States East Coast', 'Atlantic Canada'], 'damage': 100000000.0, 'deaths': 4000}, 'Bahamas': {'name': 'Bahamas', 'month': 'September', 'year': 1932, 'max sustained wind': 160, 'areas affected': ['The Bahamas', 'Northeastern United States'], 'damage': 'Damages not recorded', 'deaths': 16}, 'Cuba II': {'name': 'Cuba II', 'month': 'November', 'year': 1932, 'max sustained wind': 175, 'areas affected': ['Lesser Antilles', 'Jamaica', 'Cayman Islands', 'Cuba', 'The Bahamas', 'Bermuda'], 'damage': 40000000.0, 'deaths': 3103}, 'CubaBrownsville': {'name': 'CubaBrownsville', 'month': 'August', 'year': 1933, 'max sustained wind': 160, 'areas affected': ['The Bahamas', 'Cuba', 'Florida', 'Texas', 'Tamaulipas'], 'damage': 27900000.0, 'deaths': 179}, 'Tampico': {'name': 'Tampico', 'month': 'September', 'year': 1933, 'max sustained wind': 160, 'areas affected': ['Jamaica', 'Yucatn Peninsula'], 'damage': 5000000.0, 'deaths': 184}, 'Labor Day': {'name': 'Labor Day', 'month': 'September', 'year': 1933, 'max sustained wind': 185, 'areas affected': ['The Bahamas', 'Florida', 'Georgia', 'The Carolinas', 'Virginia'], 'damage': 'Damages not recorded', 'deaths': 408}, 'New England': {'name': 'New England', 'month': 'September', 'year': 1938, 'max sustained wind': 160, 'areas affected': ['Southeastern United States', 'Northeastern United States', 'Southwestern Quebec'], 'damage': 306000000.0, 'deaths': 682}, 'Carol': {'name': 'Carol', 'month': 'September', 'year': 1953, 'max sustained wind': 160, 'areas affected': ['Bermuda', 'New England', 'Atlantic Canada'], 'damage': 2000000.0, 'deaths': 5}, 'Janet': {'name': 'Janet', 'month': 'September', 'year': 1955, 'max sustained wind': 175, 'areas affected': ['Lesser Antilles', 'Central America'], 'damage': 65800000.0, 'deaths': 1023}, 'Carla': {'name': 'Carla', 'month': 'September', 'year': 1961, 'max sustained wind': 175, 'areas affected': ['Texas', 'Louisiana', 'Midwestern United States'], 'damage': 326000000.0, 'deaths': 43}, 'Hattie': {'name': 'Hattie', 'month': 'October', 'year': 1961, 'max sustained wind': 160, 'areas affected': ['Central America'], 'damage': 60300000.0, 'deaths': 319}, 'Beulah': {'name': 'Beulah', 'month': 'September', 'year': 1967, 'max sustained wind': 160, 'areas affected': ['The Caribbean', 'Mexico', 'Texas'], 'damage': 208000000.0, 'deaths': 688}, 'Camille': {'name': 'Camille', 'month': 'August', 'year': 1969, 'max sustained wind': 175, 'areas affected': ['Cuba', 'United States Gulf Coast'], 'damage': 1420000000.0, 'deaths': 259}, 'Edith': {'name': 'Edith', 'month': 'September', 'year': 1971, 'max sustained wind': 160, 'areas affected': ['The Caribbean', 'Central America', 'Mexico', 'United States Gulf Coast'], 'damage': 25400000.0, 'deaths': 37}, 'Anita': {'name': 'Anita', 'month': 'September', 'year': 1977, 'max sustained wind': 175, 'areas affected': ['Mexico'], 'damage': 'Damages not recorded', 'deaths': 11}, 'David': {'name': 'David', 'month': 'August', 'year': 1979, 'max sustained wind': 175, 'areas affected': ['The Caribbean', 'United States East coast'], 'damage': 1540000000.0, 'deaths': 2068}, 'Allen': {'name': 'Allen', 'month': 'August', 'year': 1980, 'max sustained wind': 190, 'areas affected': ['The Caribbean', 'Yucatn Peninsula', 'Mexico', 'South Texas'], 'damage': 1240000000.0, 'deaths': 269}, 'Gilbert': {'name': 'Gilbert', 'month': 'September', 'year': 1988, 'max sustained wind': 185, 'areas affected': ['Jamaica', 'Venezuela', 'Central America', 'Hispaniola', 'Mexico'], 'damage': 7100000000.0, 'deaths': 318}, 'Hugo': {'name': 'Hugo', 'month': 'September', 'year': 1989, 'max sustained wind': 160, 'areas affected': ['The Caribbean', 'United States East Coast'], 'damage': 10000000000.0, 'deaths': 107}, 'Andrew': {'name': 'Andrew', 'month': 'August', 'year': 1992, 'max sustained wind': 175, 'areas affected': ['The Bahamas', 'Florida', 'United States Gulf Coast'], 'damage': 26500000000.0, 'deaths': 65}, 'Mitch': {'name': 'Mitch', 'month': 'October', 'year': 1998, 'max sustained wind': 180, 'areas affected': ['Central America', 'Yucatn Peninsula', 'South Florida'], 'damage': 6200000000.0, 'deaths': 19325}, 'Isabel': {'name': 'Isabel', 'month': 'September', 'year': 2003, 'max sustained wind': 165, 'areas affected': ['Greater Antilles', 'Bahamas', 'Eastern United States', 'Ontario'], 'damage': 5370000000.0, 'deaths': 51}, 'Ivan': {'name': 'Ivan', 'month': 'September', 'year': 2004, 'max sustained wind': 165, 'areas affected': ['The Caribbean', 'Venezuela', 'United States Gulf Coast'], 'damage': 23300000000.0, 'deaths': 124}, 'Emily': {'name': 'Emily', 'month': 'July', 'year': 2005, 'max sustained wind': 160, 'areas affected': ['Windward Islands', 'Jamaica', 'Mexico', 'Texas'], 'damage': 1010000000.0, 'deaths': 17}, 'Katrina': {'name': 'Katrina', 'month': 'August', 'year': 2005, 'max sustained wind': 175, 'areas affected': ['Bahamas', 'United States Gulf Coast'], 'damage': 125000000000.0, 'deaths': 1836}, 'Rita': {'name': 'Rita', 'month': 'September', 'year': 2005, 'max sustained wind': 180, 'areas affected': ['Cuba', 'United States Gulf Coast'], 'damage': 12000000000.0, 'deaths': 125}, 'Wilma': {'name': 'Wilma', 'month': 'October', 'year': 2005, 'max sustained wind': 185, 'areas affected': ['Greater Antilles', 'Central America', 'Florida'], 'damage': 29400000000.0, 'deaths': 87}, 'Dean': {'name': 'Dean', 'month': 'August', 'year': 2007, 'max sustained wind': 175, 'areas affected': ['The Caribbean', 'Central America'], 'damage': 1760000000.0, 'deaths': 45}, 'Felix': {'name': 'Felix', 'month': 'September', 'year': 2007, 'max sustained wind': 175, 'areas affected': ['Nicaragua', 'Honduras'], 'damage': 720000000.0, 'deaths': 133}, 'Matthew': {'name': 'Matthew', 'month': 'October', 'year': 2016, 'max sustained wind': 165, 'areas affected': ['Antilles', 'Venezuela', 'Colombia', 'United States East Coast', 'Atlantic Canada'], 'damage': 15100000000.0, 'deaths': 603}, 'Irma': {'name': 'Irma', 'month': 'September', 'year': 2017, 'max sustained wind': 180, 'areas affected': ['Cape Verde', 'The Caribbean', 'British Virgin Islands', 'U.S. Virgin Islands', 'Cuba', 'Florida'], 'damage': 64800000000.0, 'deaths': 138}, 'Maria': {'name': 'Maria', 'month': 'September', 'year': 2017, 'max sustained wind': 175, 'areas affected': ['Lesser Antilles', 'Virgin Islands', 'Puerto Rico', 'Dominican Republic', 'Turks and Caicos Islands'], 'damage': 91600000000.0, 'deaths': 3057}, 'Michael': {'name': 'Michael', 'month': 'October', 'year': 2018, 'max sustained wind': 160, 'areas affected': ['Central America', 'United States Gulf Coast (especially Florida Panhandle)'], 'damage': 25100000000.0, 'deaths': 74}}\n"
     ]
    }
   ],
   "source": [
    "# names of hurricanes\n",
    "names = ['Cuba I', 'San Felipe II Okeechobee', 'Bahamas', 'Cuba II', 'CubaBrownsville', 'Tampico', 'Labor Day', 'New England', 'Carol', 'Janet', 'Carla', 'Hattie', 'Beulah', 'Camille', 'Edith', 'Anita', 'David', 'Allen', 'Gilbert', 'Hugo', 'Andrew', 'Mitch', 'Isabel', 'Ivan', 'Emily', 'Katrina', 'Rita', 'Wilma', 'Dean', 'Felix', 'Matthew', 'Irma', 'Maria', 'Michael']\n",
    "\n",
    "# months of hurricanes\n",
    "months = ['October', 'September', 'September', 'November', 'August', 'September', 'September', 'September', 'September', 'September', 'September', 'October', 'September', 'August', 'September', 'September', 'August', 'August', 'September', 'September', 'August', 'October', 'September', 'September', 'July', 'August', 'September', 'October', 'August', 'September', 'October', 'September', 'September', 'October']\n",
    "\n",
    "# years of hurricanes\n",
    "years = [1924, 1928, 1932, 1932, 1933, 1933, 1933, 1938, 1953, 1955, 1961, 1961, 1967, 1969, 1971, 1977, 1979, 1980, 1988, 1989, 1992, 1998, 2003, 2004, 2005, 2005, 2005, 2005, 2007, 2007, 2016, 2017, 2017, 2018]\n",
    "\n",
    "# maximum sustained winds (mph) of hurricanes\n",
    "max_sustained_winds = [165, 160, 160, 175, 160, 160, 185, 160, 160, 175, 175, 160, 160, 175, 160, 175, 175, 190, 185, 160, 175, 180, 165, 165, 160, 175, 180, 185, 175, 175, 165, 180, 175, 160]\n",
    "\n",
    "# areas affected by each hurricane\n",
    "areas_affected = [['Central America', 'Mexico', 'Cuba', 'Florida', 'The Bahamas'], ['Lesser Antilles', 'The Bahamas', 'United States East Coast', 'Atlantic Canada'], ['The Bahamas', 'Northeastern United States'], ['Lesser Antilles', 'Jamaica', 'Cayman Islands', 'Cuba', 'The Bahamas', 'Bermuda'], ['The Bahamas', 'Cuba', 'Florida', 'Texas', 'Tamaulipas'], ['Jamaica', 'Yucatn Peninsula'], ['The Bahamas', 'Florida', 'Georgia', 'The Carolinas', 'Virginia'], ['Southeastern United States', 'Northeastern United States', 'Southwestern Quebec'], ['Bermuda', 'New England', 'Atlantic Canada'], ['Lesser Antilles', 'Central America'], ['Texas', 'Louisiana', 'Midwestern United States'], ['Central America'], ['The Caribbean', 'Mexico', 'Texas'], ['Cuba', 'United States Gulf Coast'], ['The Caribbean', 'Central America', 'Mexico', 'United States Gulf Coast'], ['Mexico'], ['The Caribbean', 'United States East coast'], ['The Caribbean', 'Yucatn Peninsula', 'Mexico', 'South Texas'], ['Jamaica', 'Venezuela', 'Central America', 'Hispaniola', 'Mexico'], ['The Caribbean', 'United States East Coast'], ['The Bahamas', 'Florida', 'United States Gulf Coast'], ['Central America', 'Yucatn Peninsula', 'South Florida'], ['Greater Antilles', 'Bahamas', 'Eastern United States', 'Ontario'], ['The Caribbean', 'Venezuela', 'United States Gulf Coast'], ['Windward Islands', 'Jamaica', 'Mexico', 'Texas'], ['Bahamas', 'United States Gulf Coast'], ['Cuba', 'United States Gulf Coast'], ['Greater Antilles', 'Central America', 'Florida'], ['The Caribbean', 'Central America'], ['Nicaragua', 'Honduras'], ['Antilles', 'Venezuela', 'Colombia', 'United States East Coast', 'Atlantic Canada'], ['Cape Verde', 'The Caribbean', 'British Virgin Islands', 'U.S. Virgin Islands', 'Cuba', 'Florida'], ['Lesser Antilles', 'Virgin Islands', 'Puerto Rico', 'Dominican Republic', 'Turks and Caicos Islands'], ['Central America', 'United States Gulf Coast (especially Florida Panhandle)']]\n",
    "\n",
    "# damages (USD($)) of hurricanes\n",
    "damages = ['Damages not recorded', '100M', 'Damages not recorded', '40M', '27.9M', '5M', 'Damages not recorded', '306M', '2M', '65.8M', '326M', '60.3M', '208M', '1.42B', '25.4M', 'Damages not recorded', '1.54B', '1.24B', '7.1B', '10B', '26.5B', '6.2B', '5.37B', '23.3B', '1.01B', '125B', '12B', '29.4B', '1.76B', '720M', '15.1B', '64.8B', '91.6B', '25.1B']\n",
    "\n",
    "# deaths for each hurricane\n",
    "deaths = [90,4000,16,3103,179,184,408,682,5,1023,43,319,688,259,37,11,2068,269,318,107,65,19325,51,124,17,1836,125,87,45,133,603,138,3057,74]\n",
    "\n",
    "# 2\n",
    "# Create a Table\n",
    "\n",
    "table = list(zip(names, months, years, max_sustained_winds, areas_affected, dam_conv, deaths))\n",
    "# table = table[0:3]\n",
    "# print(table)\n",
    "\n",
    "# Create and view the hurricanes dictionary\n",
    "def create_dict(table):\n",
    "    key_sub = [\"name\", \"month\", \"year\", \"max sustained wind\", \"areas affected\", \"damage\", \"deaths\"]\n",
    "    dictionary = {} \n",
    "    for entry in table: \n",
    "        dict_sub = {key:value for key, value in zip(key_sub, entry)}\n",
    "        dictionary[entry[0]] = dict_sub\n",
    "    return dictionary\n",
    "\n",
    "hurricanes = create_dict(table)\n",
    "print(hurricanes)"
   ]
  },
  {
   "cell_type": "markdown",
   "id": "6d0a1933",
   "metadata": {},
   "source": [
    "3. In addition to organizing the hurricanes in a dictionary with names as the key, you want to be able to organize the hurricanes by year.\n",
    "\n",
    "   Write a function that converts the current dictionary of hurricanes to a new dictionary, where the keys are years and the values are lists containing a dictionary for each hurricane that occurred in that year.\n",
    "   \n",
    "   For example, the key `1932` would yield the value: `[{'Name': 'Bahamas', 'Month': 'September', 'Year': 1932, 'Max Sustained Wind': 160, 'Areas Affected': ['The Bahamas', 'Northeastern United States'], 'Damage': 'Damage not recorded', 'Deaths': 16}, {'Name': 'Cuba II', 'Month': 'November', 'Year': 1932, 'Max Sustained Wind': 175, 'Areas Affected': ['Lesser Antilles', 'Jamaica', 'Cayman Islands', 'Cuba', 'The Bahamas', 'Bermuda'], 'Damage': 40000000.0, 'Deaths': 3103}]`.\n",
    "   \n",
    "   Test your function on your hurricane dictionary."
   ]
  },
  {
   "cell_type": "code",
   "execution_count": 31,
   "id": "1ef2edea",
   "metadata": {},
   "outputs": [
    {
     "name": "stdout",
     "output_type": "stream",
     "text": [
      "{'Cuba I': {'name': 'Cuba I', 'month': 'October', 'year': 1924, 'max sustained wind': 165, 'areas affected': ['Central America', 'Mexico', 'Cuba', 'Florida', 'The Bahamas'], 'damage': 'Damages not recorded', 'deaths': 90}, 'San Felipe II Okeechobee': {'name': 'San Felipe II Okeechobee', 'month': 'September', 'year': 1928, 'max sustained wind': 160, 'areas affected': ['Lesser Antilles', 'The Bahamas', 'United States East Coast', 'Atlantic Canada'], 'damage': '100M', 'deaths': 4000}, 'Bahamas': {'name': 'Bahamas', 'month': 'September', 'year': 1932, 'max sustained wind': 160, 'areas affected': ['The Bahamas', 'Northeastern United States'], 'damage': 'Damages not recorded', 'deaths': 16}}\n"
     ]
    }
   ],
   "source": [
    "# 3\n",
    "# Organizing by Year\n",
    "def year_convert(dictionary): \n",
    "    dict_year = {}\n",
    "    for entry in dictionary.keys(): \n",
    "        year = dictionary.get(entry).get(\"year\")\n",
    "\n",
    "        if year not in dict_year.keys(): \n",
    "            dict_year[year] = [dictionary.get(entry)]\n",
    "        else:\n",
    "            dict_year.get(year).append(dictionary.get(entry))\n",
    "    print(dict_year)\n",
    "\n",
    "\n",
    "#year_convert(hurricanes)\n",
    "print(hurricanes)\n",
    "# create a new dictionary of hurricanes with year and key\n"
   ]
  },
  {
   "cell_type": "markdown",
   "id": "66973f77",
   "metadata": {},
   "source": [
    "4. You believe that knowing how often each of the areas of the Atlantic are affected by these strong hurricanes is important for making preparations for future hurricanes.\n",
    "\n",
    "   Write a function that counts how often each area is listed as an affected area of a hurricane. Store and return the results in a dictionary where the keys are the affected areas and the values are counts of how many times the areas were affected.\n",
    "   \n",
    "   Test your function on your hurricane dictionary."
   ]
  },
  {
   "cell_type": "code",
   "execution_count": 48,
   "id": "bff86f77",
   "metadata": {},
   "outputs": [
    {
     "name": "stdout",
     "output_type": "stream",
     "text": [
      "{'Central America': 9, 'Mexico': 7, 'Cuba': 6, 'Florida': 6, 'The Bahamas': 7, 'Lesser Antilles': 4, 'United States East Coast': 3, 'Atlantic Canada': 3, 'Northeastern United States': 2, 'Jamaica': 4, 'Cayman Islands': 1, 'Bermuda': 2, 'Texas': 4, 'Tamaulipas': 1, 'Yucatn Peninsula': 3, 'Georgia': 1, 'The Carolinas': 1, 'Virginia': 1, 'Southeastern United States': 1, 'Southwestern Quebec': 1, 'New England': 1, 'Louisiana': 1, 'Midwestern United States': 1, 'The Caribbean': 8, 'United States Gulf Coast': 6, 'United States East coast': 1, 'South Texas': 1, 'Venezuela': 3, 'Hispaniola': 1, 'South Florida': 1, 'Greater Antilles': 2, 'Bahamas': 2, 'Eastern United States': 1, 'Ontario': 1, 'Windward Islands': 1, 'Nicaragua': 1, 'Honduras': 1, 'Antilles': 1, 'Colombia': 1, 'Cape Verde': 1, 'British Virgin Islands': 1, 'U.S. Virgin Islands': 1, 'Virgin Islands': 1, 'Puerto Rico': 1, 'Dominican Republic': 1, 'Turks and Caicos Islands': 1, 'United States Gulf Coast (especially Florida Panhandle)': 1}\n"
     ]
    }
   ],
   "source": [
    "# 4\n",
    "# Counting Damaged Areas\n",
    "\n",
    "# create dictionary of areas to store the number of hurricanes involved in\n",
    "def count_areas(dictionary): \n",
    "    damaged_areas = {}\n",
    "\n",
    "    # run through hurricane names\n",
    "    for cane in dictionary.keys(): \n",
    "\n",
    "        # run through areas affected\n",
    "        for area in dictionary.get(cane).get('areas affected'): \n",
    "\n",
    "            # if area already in affected areas: \n",
    "            if area in damaged_areas.keys(): \n",
    "                damaged_areas[area] += 1\n",
    "            # if first time area appears: \n",
    "            else:\n",
    "                damaged_areas[area] = 1\n",
    "\n",
    "    return damaged_areas\n",
    "\n",
    "print(count_areas(hurricanes))\n"
   ]
  },
  {
   "cell_type": "markdown",
   "id": "e015eeb3",
   "metadata": {},
   "source": [
    "5. Write a function that finds the area affected by the most hurricanes, and how often it was hit.\n",
    "\n",
    "   Test your function on your affected area dictionary."
   ]
  },
  {
   "cell_type": "code",
   "execution_count": 55,
   "id": "643c73f9",
   "metadata": {},
   "outputs": [
    {
     "name": "stdout",
     "output_type": "stream",
     "text": [
      "The most hit area is Central America with 9 hurricanes.\n"
     ]
    }
   ],
   "source": [
    "# 5\n",
    "# Calculating Maximum Hurricane Count\n",
    "def max_canes(dictionary): \n",
    "    damage_areas = count_areas(dictionary)\n",
    "    most_number = list(damage_areas.values())[0]\n",
    "    most_area = list(damage_areas.keys())[0]\n",
    "    print(\"The most hit area is \" + str(most_area) + \" with \" + str(most_number) + \" hurricanes.\")\n",
    "# find most frequently affected area and the number of hurricanes involved in\n",
    "max_canes(hurricanes)"
   ]
  },
  {
   "cell_type": "markdown",
   "id": "4c120f59",
   "metadata": {},
   "source": [
    "6. Write a function that finds the hurricane that caused the greatest number of deaths, and how many deaths it caused.\n",
    "\n",
    "   Test your function on your hurricane dictionary."
   ]
  },
  {
   "cell_type": "code",
   "execution_count": 60,
   "id": "ced02448",
   "metadata": {},
   "outputs": [
    {
     "name": "stdout",
     "output_type": "stream",
     "text": [
      "{'Mitch': 19325}\n"
     ]
    }
   ],
   "source": [
    "# 6\n",
    "# Calculating the Deadliest Hurricane\n",
    "\n",
    "# find highest mortality hurricane and the number of deaths\n",
    "def deadliest(dictionary): \n",
    "    deaths = {}\n",
    "    max_deaths = 0\n",
    "    # run through hurricane names\n",
    "    for cane in dictionary.keys(): \n",
    "        if max_deaths < dictionary.get(cane).get('deaths'):\n",
    "            max_deaths = dictionary.get(cane).get('deaths')\n",
    "            deaths = {cane: max_deaths}\n",
    "        else: \n",
    "            continue\n",
    "        # print(cane + str(dictionary.get(cane).get('deaths')))\n",
    "    print(deaths)\n",
    "\n",
    "deadliest(hurricanes)"
   ]
  },
  {
   "cell_type": "markdown",
   "id": "9ddd39b0",
   "metadata": {},
   "source": [
    "7. Just as hurricanes are rated by their windspeed, you want to try rating hurricanes based on other metrics.\n",
    "\n",
    "   Write a function that rates hurricanes on a mortality scale according to the following ratings, where the key is the rating and the value is the upper bound of deaths for that rating.\n",
    "   \n",
    "   ```py\n",
    "   mortality_scale = {0: 0,\n",
    "   1: 100,\n",
    "   2: 500,\n",
    "   3: 1000,\n",
    "   4: 10000}\n",
    "   ```\n",
    "   \n",
    "   For example, a hurricane with a `1` mortality rating would have resulted in greater than `0` but less than or equal to `100` deaths. A hurricane with a `5` mortality would have resulted in greater than `10000` deaths.\n",
    "   \n",
    "   Store the hurricanes in a new dictionary where the keys are the mortaility ratings and the values are lists containing a dictionary for each hurricane that falls into that mortality rating.\n",
    "   \n",
    "   Test your function on your hurricane dictionary."
   ]
  },
  {
   "cell_type": "code",
   "execution_count": 104,
   "id": "9eea4dc7",
   "metadata": {},
   "outputs": [
    {
     "name": "stdout",
     "output_type": "stream",
     "text": [
      "{'Cuba I': 1, 'San Felipe II Okeechobee': 4, 'Bahamas': 1, 'Cuba II': 4, 'CubaBrownsville': 2, 'Tampico': 2, 'Labor Day': 2, 'New England': 3, 'Carol': 1, 'Janet': 4, 'Carla': 1, 'Hattie': 2, 'Beulah': 3, 'Camille': 2, 'Edith': 1, 'Anita': 1, 'David': 4, 'Allen': 2, 'Gilbert': 2, 'Hugo': 2, 'Andrew': 1, 'Mitch': 5, 'Isabel': 1, 'Ivan': 2, 'Emily': 1, 'Katrina': 4, 'Rita': 2, 'Wilma': 1, 'Dean': 1, 'Felix': 2, 'Matthew': 3, 'Irma': 2, 'Maria': 4, 'Michael': 1}\n"
     ]
    }
   ],
   "source": [
    "# 7\n",
    "# Rating Hurricanes by Mortality\n",
    "mortality_scale = {0: 0, 1: 100, 2: 500, 3: 1000, 4: 10000}\n",
    "\n",
    "def mortality(dictionary, scale): \n",
    "    mortality_rating = {}\n",
    "\n",
    "    for cane in dictionary.keys(): \n",
    "        cane_rate = 0\n",
    "        cane_deaths = dictionary.get(cane).get('deaths')\n",
    "\n",
    "        for rating in scale.values(): \n",
    "            if cane_deaths > rating: \n",
    "                cane_rate += 1\n",
    "\n",
    "        mortality_rating[cane] = cane_rate\n",
    "\n",
    "    print(mortality_rating)\n",
    "\n",
    "# categorize hurricanes in new dictionary with mortality severity as key\n",
    "mortality(hurricanes, mortality_scale)\n",
    "# print(hurricanes)"
   ]
  },
  {
   "cell_type": "markdown",
   "id": "199b0e1c",
   "metadata": {},
   "source": [
    "8. Write a function that finds the hurricane that caused the greatest damage, and how costly it was.\n",
    "\n",
    "   Test your function on your hurricane dictionary."
   ]
  },
  {
   "cell_type": "code",
   "execution_count": 91,
   "id": "b3dc79b4",
   "metadata": {},
   "outputs": [
    {
     "name": "stdout",
     "output_type": "stream",
     "text": [
      "{'Katrina': 125000000000.0}\n"
     ]
    }
   ],
   "source": [
    "# 8\n",
    "# Calculating Hurricane Maximum Damage\n",
    "\n",
    "# find highest damage inducing hurricane and its total cost\n",
    "def damagiest(dictionary): \n",
    "    damage = {}\n",
    "    max_damage = 0\n",
    "    for cane in dictionary.keys(): \n",
    "        if dictionary.get(cane).get('damage') == 'Damages not recorded': \n",
    "            continue\n",
    "\n",
    "        else: \n",
    "            if max_damage < dictionary.get(cane).get('damage'): \n",
    "                max_damage = dictionary.get(cane).get('damage')\n",
    "                damage = {cane: max_damage}\n",
    "            else:\n",
    "                continue\n",
    "        \n",
    "    print(damage)\n",
    "damagiest(hurricanes)"
   ]
  },
  {
   "cell_type": "markdown",
   "id": "58d22ddc",
   "metadata": {},
   "source": [
    "9. Lastly, you want to rate hurricanes according to how much damage they cause.\n",
    "\n",
    "   Write a function that rates hurricanes on a damage scale according to the following ratings, where the key is the rating and the value is the upper bound of damage for that rating.\n",
    "   ```py\n",
    "   damage_scale = {0: 0,\n",
    "   1: 100000000,\n",
    "   2: 1000000000,\n",
    "   3: 10000000000,\n",
    "   4: 50000000000}\n",
    "   ```\n",
    "   \n",
    "   For example, a hurricane with a `1` damage rating would have resulted in damages greater than `0` USD but less than or equal to `100000000` USD. A hurricane with a `5` damage rating would have resulted in damages greater than `50000000000` USD (talk about a lot of money).\n",
    "   \n",
    "   Store the hurricanes in a new dictionary where the keys are damage ratings and the values are lists containing a dictionary for each hurricane that falls into that damage rating.\n",
    "   \n",
    "   Test your function on your hurricane dictionary."
   ]
  },
  {
   "cell_type": "code",
   "execution_count": 103,
   "id": "e543f487",
   "metadata": {},
   "outputs": [
    {
     "name": "stdout",
     "output_type": "stream",
     "text": [
      "{'Cuba I': 'NA', 'San Felipe II Okeechobee': 1, 'Bahamas': 'NA', 'Cuba II': 1, 'CubaBrownsville': 1, 'Tampico': 1, 'Labor Day': 'NA', 'New England': 2, 'Carol': 1, 'Janet': 1, 'Carla': 2, 'Hattie': 1, 'Beulah': 2, 'Camille': 3, 'Edith': 1, 'Anita': 'NA', 'David': 3, 'Allen': 3, 'Gilbert': 3, 'Hugo': 3, 'Andrew': 4, 'Mitch': 3, 'Isabel': 3, 'Ivan': 4, 'Emily': 3, 'Katrina': 5, 'Rita': 4, 'Wilma': 4, 'Dean': 3, 'Felix': 2, 'Matthew': 4, 'Irma': 5, 'Maria': 5, 'Michael': 4}\n"
     ]
    }
   ],
   "source": [
    "# 9\n",
    "# Rating Hurricanes by Damage\n",
    "damage_scale = {0: 0,\n",
    "                1: 100000000,\n",
    "                2: 1000000000,\n",
    "                3: 10000000000,\n",
    "                4: 50000000000}\n",
    "\n",
    "# categorize hurricanes in new dictionary with damage severity as key\n",
    "\n",
    "def damage_group(dictionary, scale): \n",
    "    damage_dict = {}\n",
    "\n",
    "    for cane in dictionary.keys(): \n",
    "        cane_rating = 0\n",
    "        cane_damage = dictionary.get(cane).get('damage')\n",
    "       \n",
    "        for damage in damage_scale.values(): \n",
    "            if cane_damage == 'Damages not recorded':\n",
    "                cane_rating = 'NA'\n",
    "            \n",
    "            else: \n",
    "                if cane_damage > damage: \n",
    "                    cane_rating += 1\n",
    "            \n",
    "        damage_dict[cane] = cane_rating\n",
    "    print(damage_dict)\n",
    "       \n",
    "\n",
    "damage_group(hurricanes, damage_scale)"
   ]
  },
  {
   "cell_type": "markdown",
   "id": "928c5fd2",
   "metadata": {},
   "source": [
    "## Solution"
   ]
  },
  {
   "cell_type": "markdown",
   "id": "252616a3",
   "metadata": {},
   "source": [
    "Great work! View the **Hurricane Analysis_Solution.ipynb** file or visit [our forums](https://discuss.codecademy.com/t/hurricane-analysis-challenge-project-python/462363) to compare your project to our sample solution code. You can also learn how to host your own solution on GitHub so you can share it with other learners! Your solution might look different than ours, and that's okay! There are multiple ways to solve these projects, and you'll learn more by seeing others' code."
   ]
  },
  {
   "cell_type": "code",
   "execution_count": null,
   "id": "da8f7141",
   "metadata": {},
   "outputs": [],
   "source": []
  }
 ],
 "metadata": {
  "kernelspec": {
   "display_name": "base",
   "language": "python",
   "name": "python3"
  },
  "language_info": {
   "codemirror_mode": {
    "name": "ipython",
    "version": 3
   },
   "file_extension": ".py",
   "mimetype": "text/x-python",
   "name": "python",
   "nbconvert_exporter": "python",
   "pygments_lexer": "ipython3",
   "version": "3.9.12"
  },
  "vscode": {
   "interpreter": {
    "hash": "2e0be0f9431735c17531102800b85e645e404fc947049537ee8d8d3df613b1c0"
   }
  }
 },
 "nbformat": 4,
 "nbformat_minor": 5
}
