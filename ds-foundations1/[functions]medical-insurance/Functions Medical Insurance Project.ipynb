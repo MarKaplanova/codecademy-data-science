{
 "cells": [
  {
   "cell_type": "code",
   "execution_count": 25,
   "metadata": {},
   "outputs": [
    {
     "name": "stdout",
     "output_type": "stream",
     "text": [
      "The estimated insurance cost for Maria is 5469.0 dollars.\n",
      "None\n",
      "The estimated insurance cost for Omar is 28336.0 dollars.\n",
      "The estimated insurance cost for Martina is 2547.0 dollars.\n"
     ]
    }
   ],
   "source": [
    "# Create calculate_insurance_cost() function below: \n",
    "def calculate_insurance_cost(age, sex, bmi, num_of_children, smoker, name = \"this person\"): \n",
    "    estimated_cost = 250*age - 128*sex + 370*bmi + 425*num_of_children + 24000*smoker - 12500\n",
    "    message = print(\"The estimated insurance cost for \" + name + \" is \" + str(estimated_cost) + \" dollars.\")\n",
    "    return estimated_cost, message\n",
    "\n",
    "# Initial variables for Maria \n",
    "age = 28\n",
    "sex = 0  \n",
    "bmi = 26.2\n",
    "num_of_children = 3\n",
    "smoker = 0  \n",
    "\n",
    "maria_cost, maria_message = calculate_insurance_cost(age, sex, bmi, num_of_children, smoker, name = \"Maria\")\n",
    "\n",
    "# Estimate Maria's insurance cost\n",
    "#insurance_cost = 250*age - 128*sex + 370*bmi + 425*num_of_children + 24000*smoker - 12500\n",
    "#print(\"The estimated insurance cost for Maria is \" + str(insurance_cost) + \" dollars.\")\n",
    "\n",
    "# Initial variables for Omar\n",
    "age = 35\n",
    "sex = 1 \n",
    "bmi = 22.2\n",
    "num_of_children = 0\n",
    "smoker = 1  \n",
    "\n",
    "# Estimate Omar's insurance cost \n",
    "#insurance_cost = 250*age - 128*sex + 370*bmi + 425*num_of_children + 24000*smoker - 12500\n",
    "#print(\"The estimated insurance cost for Omar is \" + str(insurance_cost) + \" dollars.\")\n",
    "\n",
    "omar_cost, omar_message = calculate_insurance_cost(age, sex, bmi, num_of_children, smoker, name = \"Omar\")\n",
    "\n",
    "# Estimate Martina's insurance cost\n",
    "age = 26\n",
    "sex = 0\n",
    "bmi = 23.1\n",
    "num_of_children = 0\n",
    "smoker = 0\n",
    "\n",
    "martina_insurance_cost = calculate_insurance_cost(age, sex, bmi, num_of_children, smoker, name = \"Martina\")"
   ]
  },
  {
   "cell_type": "code",
   "execution_count": 27,
   "metadata": {},
   "outputs": [
    {
     "name": "stdout",
     "output_type": "stream",
     "text": [
      "The difference in insurance cost is -22867.0 dollars.\n"
     ]
    }
   ],
   "source": [
    "# create function for calculating ifferences\n",
    "def calculate_diff(cost1, cost2):\n",
    "    difference = cost1 - cost2 \n",
    "    print(\"The difference in insurance cost is \" + str(difference) + \" dollars.\")\n",
    "\n",
    "calculate_diff(maria_cost, omar_cost) "
   ]
  }
 ],
 "metadata": {
  "kernelspec": {
   "display_name": "Python 3.10.6 64-bit",
   "language": "python",
   "name": "python3"
  },
  "language_info": {
   "codemirror_mode": {
    "name": "ipython",
    "version": 3
   },
   "file_extension": ".py",
   "mimetype": "text/x-python",
   "name": "python",
   "nbconvert_exporter": "python",
   "pygments_lexer": "ipython3",
   "version": "3.10.6"
  },
  "orig_nbformat": 4,
  "vscode": {
   "interpreter": {
    "hash": "7721095a233f0e57b03f15b5b1887c1f241dec4fd32384493e597b74aa02e04c"
   }
  }
 },
 "nbformat": 4,
 "nbformat_minor": 2
}
