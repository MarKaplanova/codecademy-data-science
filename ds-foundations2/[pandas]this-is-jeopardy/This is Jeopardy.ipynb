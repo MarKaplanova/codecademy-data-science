{
 "cells": [
  {
   "cell_type": "markdown",
   "metadata": {},
   "source": [
    "# This is Jeopardy!"
   ]
  },
  {
   "cell_type": "markdown",
   "metadata": {},
   "source": [
    "#### Overview"
   ]
  },
  {
   "cell_type": "markdown",
   "metadata": {},
   "source": [
    "This project is slightly different than others you have encountered thus far. Instead of a step-by-step tutorial, this project contains a series of open-ended requirements which describe the project you'll be building. There are many possible ways to correctly fulfill all of these requirements, and you should expect to use the internet, Codecademy, and/or other resources when you encounter a problem that you cannot easily solve."
   ]
  },
  {
   "cell_type": "markdown",
   "metadata": {},
   "source": [
    "#### Project Goals"
   ]
  },
  {
   "cell_type": "markdown",
   "metadata": {},
   "source": [
    "You will work to write several functions that investigate a dataset of _Jeopardy!_ questions and answers. Filter the dataset for topics that you're interested in, compute the average difficulty of those questions, and train to become the next Jeopardy champion!"
   ]
  },
  {
   "cell_type": "markdown",
   "metadata": {},
   "source": [
    "## Prerequisites"
   ]
  },
  {
   "cell_type": "markdown",
   "metadata": {},
   "source": [
    "In order to complete this project, you should have completed the Pandas lessons in the <a href=\"https://www.codecademy.com/learn/paths/analyze-data-with-python\">Analyze Data with Python Skill Path</a>. You can also find those lessons in the <a href=\"https://www.codecademy.com/learn/data-processing-pandas\">Data Analysis with Pandas course</a> or the <a href=\"https://www.codecademy.com/learn/paths/data-science/\">Data Scientist Career Path</a>.\n",
    "\n",
    "Finally, the <a href=\"https://www.codecademy.com/learn/practical-data-cleaning\">Practical Data Cleaning</a> course may also be helpful."
   ]
  },
  {
   "cell_type": "markdown",
   "metadata": {},
   "source": [
    "## Project Requirements"
   ]
  },
  {
   "cell_type": "markdown",
   "metadata": {},
   "source": [
    "1. We've provided a csv file containing data about the game show _Jeopardy!_ in a file named `jeopardy.csv`. Load the data into a DataFrame and investigate its contents. Try to print out specific columns.\n",
    "\n",
    "   Note that in order to make this project as \"real-world\" as possible, we haven't modified the data at all - we're giving it to you exactly how we found it. As a result, this data isn't as \"clean\" as the datasets you normally find on Codecademy. More specifically, there's something odd about the column names. After you figure out the problem with the column names, you may want to rename them to make your life easier for the rest of the project.\n",
    "   \n",
    "   In order to display the full contents of a column, we've added this line of code for you:\n",
    "   \n",
    "   ```py\n",
    "   pd.set_option('display.max_colwidth', None)\n",
    "   ```"
   ]
  },
  {
   "cell_type": "code",
   "execution_count": 1,
   "metadata": {},
   "outputs": [
    {
     "name": "stdout",
     "output_type": "stream",
     "text": [
      "   show_number    air_date      round                         category value  \\\n",
      "0         4680  2004-12-31  Jeopardy!                          HISTORY  $200   \n",
      "1         4680  2004-12-31  Jeopardy!  ESPN's TOP 10 ALL-TIME ATHLETES  $200   \n",
      "2         4680  2004-12-31  Jeopardy!      EVERYBODY TALKS ABOUT IT...  $200   \n",
      "3         4680  2004-12-31  Jeopardy!                 THE COMPANY LINE  $200   \n",
      "4         4680  2004-12-31  Jeopardy!              EPITAPHS & TRIBUTES  $200   \n",
      "\n",
      "                                                                                                      question  \\\n",
      "0             For the last 8 years of his life, Galileo was under house arrest for espousing this man's theory   \n",
      "1  No. 2: 1912 Olympian; football star at Carlisle Indian School; 6 MLB seasons with the Reds, Giants & Braves   \n",
      "2                     The city of Yuma in this state has a record average of 4,055 hours of sunshine each year   \n",
      "3                         In 1963, live on \"The Art Linkletter Show\", this company served its billionth burger   \n",
      "4     Signer of the Dec. of Indep., framer of the Constitution of Mass., second President of the United States   \n",
      "\n",
      "       answer  \n",
      "0  Copernicus  \n",
      "1  Jim Thorpe  \n",
      "2     Arizona  \n",
      "3  McDonald's  \n",
      "4  John Adams  \n"
     ]
    }
   ],
   "source": [
    "import pandas as pd\n",
    "pd.set_option('display.max_colwidth', None)\n",
    "\n",
    "data = pd.read_csv('jeopardy.csv')\n",
    "# print(data.head())\n",
    "\n",
    "# data = data.rename(columns = {\"Show Number\": \"show_number\", \"Air Date\": \"air_date\", \"Round\": \"round\", \"Category\": \"category\", \"Value\": \"value\", \"Question\": \"question\", \"Answer\": \"answer\"})\n",
    "data = data.rename(str.lower, axis = \"columns\")\n",
    "data = data.rename(str.strip, axis = \"columns\")\n",
    "data = data.rename({\"air date\":\"air_date\", \"show number\":\"show_number\"}, axis = \"columns\")\n",
    "\n",
    "print(data.head())"
   ]
  },
  {
   "cell_type": "markdown",
   "metadata": {},
   "source": [
    "2. Write a function that filters the dataset for questions that contains all of the words in a list of words. For example, when the list `[\"King\", \"England\"]` was passed to our function, the function returned a DataFrame of 49 rows. Every row had the strings `\"King\"` and `\"England\"` somewhere in its `\" Question\"`.\n",
    "\n",
    "   Test your function by printing out the column containing the question of each row of the dataset."
   ]
  },
  {
   "cell_type": "code",
   "execution_count": 2,
   "metadata": {},
   "outputs": [
    {
     "name": "stdout",
     "output_type": "stream",
     "text": [
      "words\n",
      "       show_number    air_date             round          category  value  \\\n",
      "4953          3003  1997-09-24  Double Jeopardy!      \"PH\"UN WORDS   $200   \n",
      "14912         2832  1996-12-17         Jeopardy!     WORLD HISTORY   $100   \n",
      "21511         4650  2004-11-19         Jeopardy!        THE \"O.C.\"  $1000   \n",
      "23810         4862  2005-11-01         Jeopardy!     NAME THE YEAR   $400   \n",
      "27555         1799  1992-05-28  Double Jeopardy!  HISTORIC IN-LAWS   $600   \n",
      "\n",
      "                                                                                                   question  \\\n",
      "4953               Both England's King George V & FDR put their stamp of approval on this \"King of Hobbies\"   \n",
      "14912     This country's King Louis IV was nicknamed \"Louis From Overseas\" because he was raised in England   \n",
      "21511                          this man and his son ruled England following the execution of King Charles I   \n",
      "23810  William the Conqueror was crowned King of England in Westminster Abbey on Christmas Day in this year   \n",
      "27555                    This member of the Medici family was the mother-in-law of England's King Charles I   \n",
      "\n",
      "                             answer  contains  \n",
      "4953   Philately (stamp collecting)      True  \n",
      "14912                        France      True  \n",
      "21511               Oliver Cromwell      True  \n",
      "23810                          1066      True  \n",
      "27555               Marie de Medici      True  \n",
      "49\n"
     ]
    }
   ],
   "source": [
    "def filters(data, words): \n",
    "    data['contains'] = data.question.apply(lambda q: all(word in q for word in words))\n",
    "    print(\"words\")\n",
    "    return data[data.contains == True]\n",
    "\n",
    "filtered = filters(data, [\"England\", \"King\"])\n",
    "print(filtered.head())\n",
    "print(len(filtered))\n"
   ]
  },
  {
   "cell_type": "markdown",
   "metadata": {},
   "source": [
    "3. Test your original function with a few different sets of words to try to find some ways your function breaks. Edit your function so it is more robust.\n",
    "\n",
    "   For example, think about capitalization. We probably want to find questions that contain the word `\"King\"` or `\"king\"`.\n",
    "   \n",
    "   You may also want to check to make sure you don't find rows that contain substrings of your given words. For example, our function found a question that didn't contain the word `\"king\"`, however it did contain the word `\"viking\"` &mdash; it found the `\"king\"` inside `\"viking\"`. Note that this also comes with some drawbacks &mdash; you would no longer find questions that contained words like `\"England's\"`."
   ]
  },
  {
   "cell_type": "code",
   "execution_count": 3,
   "metadata": {},
   "outputs": [
    {
     "name": "stdout",
     "output_type": "stream",
     "text": [
      "words\n",
      "       show_number    air_date             round               category  \\\n",
      "4953          3003  1997-09-24  Double Jeopardy!           \"PH\"UN WORDS   \n",
      "6337          3517  1999-12-14  Double Jeopardy!                    Y1K   \n",
      "9191          3907  2001-09-04  Double Jeopardy!         WON THE BATTLE   \n",
      "11710         2903  1997-03-26  Double Jeopardy!       BRITISH MONARCHS   \n",
      "13454         4726  2005-03-07         Jeopardy!  A NUMBER FROM 1 TO 10   \n",
      "\n",
      "       value  \\\n",
      "4953    $200   \n",
      "6337    $800   \n",
      "9191    $800   \n",
      "11710   $600   \n",
      "13454  $1000   \n",
      "\n",
      "                                                                                                     question  \\\n",
      "4953                 Both England's King George V & FDR put their stamp of approval on this \"King of Hobbies\"   \n",
      "6337   In retaliation for Viking raids, this \"Unready\" king of England attacks Norse areas of the Isle of Man   \n",
      "9191                 This king of England beat the odds to trounce the French in the 1415 Battle of Agincourt   \n",
      "11710            This Scotsman, the first Stuart king of England, was called \"The Wisest Fool in Christendom\"   \n",
      "13454                                    It's the number that followed the last king of England named William   \n",
      "\n",
      "                             answer  contains  \n",
      "4953   Philately (stamp collecting)      True  \n",
      "6337                       Ethelred      True  \n",
      "9191                        Henry V      True  \n",
      "11710                       James I      True  \n",
      "13454                             4      True  \n",
      "152\n"
     ]
    }
   ],
   "source": [
    "def filters(data, words): \n",
    "    data['contains'] = data.question.apply(lambda q: all(word.lower() in q.lower() for word in words))\n",
    "    print(\"words\")\n",
    "    return data[data.contains == True]\n",
    "\n",
    "filtered = filters(data, [\"England\", \"King\"])\n",
    "print(filtered.head())\n",
    "print(len(filtered))\n"
   ]
  },
  {
   "cell_type": "markdown",
   "metadata": {},
   "source": [
    "4. We may want to eventually compute aggregate statistics, like `.mean()` on the `\" Value\"` column. But right now, the values in that column are strings. Convert the`\" Value\"` column to floats. If you'd like to, you can create a new column with float values.\n",
    "\n",
    "   Now that you can filter the dataset of question, use your new column that contains the float values of each question to find the \"difficulty\" of certain topics. For example, what is the average value of questions that contain the word `\"King\"`?\n",
    "   \n",
    "   Make sure to use the dataset that contains the float values as the dataset you use in your filtering function."
   ]
  },
  {
   "cell_type": "code",
   "execution_count": 4,
   "metadata": {},
   "outputs": [
    {
     "name": "stdout",
     "output_type": "stream",
     "text": [
      "<class 'numpy.int64'>\n",
      "   show_number    air_date      round                         category value  \\\n",
      "0         4680  2004-12-31  Jeopardy!                          HISTORY  $200   \n",
      "1         4680  2004-12-31  Jeopardy!  ESPN's TOP 10 ALL-TIME ATHLETES  $200   \n",
      "2         4680  2004-12-31  Jeopardy!      EVERYBODY TALKS ABOUT IT...  $200   \n",
      "3         4680  2004-12-31  Jeopardy!                 THE COMPANY LINE  $200   \n",
      "4         4680  2004-12-31  Jeopardy!              EPITAPHS & TRIBUTES  $200   \n",
      "\n",
      "                                                                                                      question  \\\n",
      "0             For the last 8 years of his life, Galileo was under house arrest for espousing this man's theory   \n",
      "1  No. 2: 1912 Olympian; football star at Carlisle Indian School; 6 MLB seasons with the Reds, Giants & Braves   \n",
      "2                     The city of Yuma in this state has a record average of 4,055 hours of sunshine each year   \n",
      "3                         In 1963, live on \"The Art Linkletter Show\", this company served its billionth burger   \n",
      "4     Signer of the Dec. of Indep., framer of the Constitution of Mass., second President of the United States   \n",
      "\n",
      "       answer  contains  value_num  \n",
      "0  Copernicus     False        200  \n",
      "1  Jim Thorpe     False        200  \n",
      "2     Arizona     False        200  \n",
      "3  McDonald's     False        200  \n",
      "4  John Adams     False        200  \n",
      "words\n",
      "739.9884755451067\n",
      "771.8833850722094\n"
     ]
    }
   ],
   "source": [
    "# print(data.value.unique())\n",
    "data['value_num'] = data.value.apply(lambda val: int(val[1:].replace(\",\", \"\")) if val != \"None\" else 0)\n",
    "print(type(data.value_num[1]))\n",
    "print(data.head())\n",
    "\n",
    "king = filters(data, [\"king\"])\n",
    "\n",
    "print(data.value_num.mean())\n",
    "print(king.value_num.mean())"
   ]
  },
  {
   "cell_type": "markdown",
   "metadata": {},
   "source": [
    "5. Write a function that returns the count of unique answers to all of the questions in a dataset. For example, after filtering the entire dataset to only questions containing the word `\"King\"`, we could then find all of the unique answers to those questions. The answer \"Henry VIII\" appeared 55 times and was the most common answer."
   ]
  },
  {
   "cell_type": "code",
   "execution_count": 12,
   "metadata": {},
   "outputs": [
    {
     "name": "stdout",
     "output_type": "stream",
     "text": [
      "words\n",
      "Henry VIII                   55\n",
      "Solomon                      35\n",
      "Richard III                  33\n",
      "Louis XIV                    31\n",
      "David                        30\n",
      "                             ..\n",
      "cardiac (in card I acted)     1\n",
      "Henderson                     1\n",
      "Computer                      1\n",
      "Indians                       1\n",
      "work                          1\n",
      "Name: answer, Length: 5268, dtype: int64\n"
     ]
    }
   ],
   "source": [
    "king = filters(data, [\"King\"])\n",
    "\n",
    "def count(data): \n",
    "    return data.answer.value_counts()\n",
    "\n",
    "count = count(king)\n",
    "print(count)\n",
    "    \n",
    "# print(king[king.answer == \"Henry VIII\"].count())"
   ]
  },
  {
   "cell_type": "markdown",
   "metadata": {},
   "source": [
    "6. Explore from here! This is an incredibly rich dataset, and there are so many interesting things to discover. There are a few columns that we haven't even started looking at yet. Here are some ideas on ways to continue working with this data:\n",
    "\n",
    " * Investigate the ways in which questions change over time by filtering by the date. How many questions from the 90s use the word `\"Computer\"` compared to questions from the 2000s?\n",
    " * Is there a connection between the round and the category? Are you more likely to find certain categories, like `\"Literature\"` in Single Jeopardy or Double Jeopardy?\n",
    " * Build a system to quiz yourself. Grab random questions, and use the <a href=\"https://docs.python.org/3/library/functions.html#input\">input</a> function to get a response from the user. Check to see if that response was right or wrong."
   ]
  },
  {
   "cell_type": "code",
   "execution_count": 89,
   "metadata": {},
   "outputs": [
    {
     "name": "stdout",
     "output_type": "stream",
     "text": [
      "For 1000 points:\n",
      "The three elements that make up the Marine Corps seal are a globe, an eagle holding a scroll & this naval symbol\n",
      "Your answer is anchor\n",
      "You are a dummy. The correct answer is an anchor\n"
     ]
    }
   ],
   "source": [
    "import random as rd\n",
    "\n",
    "def quiz(data):\n",
    "    def question(data):\n",
    "        row = rd.randint(0, len(data))\n",
    "        question = data.question[row]\n",
    "        answer = data.answer[row]\n",
    "        points = data.value_num[row]\n",
    "        print(\"For \" + str(points) + \" points:\")\n",
    "        print(question)\n",
    "        return answer, points\n",
    "\n",
    "    correct, points = question(data)\n",
    "    answer_user = input()\n",
    "    print(\"Your answer is \" + answer_user)\n",
    "  \n",
    "\n",
    "    def evaluate(correct, answer_user): \n",
    "        if correct.lower() == answer_user.lower(): \n",
    "            print(\"You are right, you are a genius!!\")\n",
    "        else: \n",
    "            print(\"You are a dummy. The correct answer is \" + correct)\n",
    "    evaluate(correct, answer_user)\n",
    "\n",
    "quiz(data)"
   ]
  },
  {
   "cell_type": "markdown",
   "metadata": {},
   "source": [
    "## Solution"
   ]
  },
  {
   "cell_type": "markdown",
   "metadata": {},
   "source": [
    "7. Compare your program to our <a href=\"https://content.codecademy.com/PRO/independent-practice-projects/jeopardy/jeopardy_solution.zip\">sample solution code</a> - remember, that your program might look different from ours (and probably will) and that's okay!"
   ]
  },
  {
   "cell_type": "markdown",
   "metadata": {},
   "source": [
    "8. Great work! Visit <a href=\"https://discuss.codecademy.com/t/this-is-jeopardy-challenge-project-python-pandas/462365\">our forums</a> to compare your project to our sample solution code. You can also learn how to host your own solution on GitHub so you can share it with other learners! Your solution might look different from ours, and that's okay! There are multiple ways to solve these projects, and you'll learn more by seeing others' code."
   ]
  },
  {
   "cell_type": "code",
   "execution_count": null,
   "metadata": {},
   "outputs": [],
   "source": []
  }
 ],
 "metadata": {
  "kernelspec": {
   "display_name": "Python 3",
   "language": "python",
   "name": "python3"
  },
  "language_info": {
   "codemirror_mode": {
    "name": "ipython",
    "version": 3
   },
   "file_extension": ".py",
   "mimetype": "text/x-python",
   "name": "python",
   "nbconvert_exporter": "python",
   "pygments_lexer": "ipython3",
   "version": "3.10.6"
  },
  "vscode": {
   "interpreter": {
    "hash": "7721095a233f0e57b03f15b5b1887c1f241dec4fd32384493e597b74aa02e04c"
   }
  }
 },
 "nbformat": 4,
 "nbformat_minor": 2
}
